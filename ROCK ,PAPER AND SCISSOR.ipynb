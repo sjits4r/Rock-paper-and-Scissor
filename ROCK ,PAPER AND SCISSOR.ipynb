{
 "cells": [
  {
   "cell_type": "code",
   "execution_count": 3,
   "id": "21dd41d3",
   "metadata": {},
   "outputs": [
    {
     "name": "stdout",
     "output_type": "stream",
     "text": [
      "Welcome to rock ,paper and scissor game!\n",
      "Player1 choice r/p/s(Rock/Paper/Scissor)r\n",
      "Player2 choice r/p/s (Rock/Paper/Scissor)p\n",
      "Player2 win!\n"
     ]
    }
   ],
   "source": [
    "print(\"Welcome to rock ,paper and scissor game!\")\n",
    "player1 = str(input(\"Player1 choice r/p/s(Rock/Paper/Scissor)\"))\n",
    "player2 = str(input(\"Player2 choice r/p/s (Rock/Paper/Scissor)\"))\n",
    "if (player1 == player2):\n",
    "    print(\"Player1 entered {player1} and Player2 entered {player2}.It's a tie\".format(player1=player1,player2=player2))\n",
    "elif (player1 == 'r'):\n",
    "    if(player2 == 'p'):\n",
    "      print(\"Player2 win!\")\n",
    "    else:\n",
    "        print(\"Player1 win!\")\n",
    "elif (player1 == 'p'):\n",
    "    if(player2 == 'r'):\n",
    "        print(\"Player1 win!\")\n",
    "    else:\n",
    "        print(\"Player2 win!\")\n",
    "elif(player1 == 's'):\n",
    "    if(player1 == 'r'):\n",
    "        print(\"Player1 win!\")\n",
    "    else:\n",
    "        print(\"Player2 win!\")\n",
    "else:\n",
    "    print(\"Entered wrong option!\")"
   ]
  },
  {
   "cell_type": "code",
   "execution_count": null,
   "id": "490d2f3c",
   "metadata": {},
   "outputs": [],
   "source": []
  }
 ],
 "metadata": {
  "kernelspec": {
   "display_name": "Python 3",
   "language": "python",
   "name": "python3"
  },
  "language_info": {
   "codemirror_mode": {
    "name": "ipython",
    "version": 3
   },
   "file_extension": ".py",
   "mimetype": "text/x-python",
   "name": "python",
   "nbconvert_exporter": "python",
   "pygments_lexer": "ipython3",
   "version": "3.8.8"
  }
 },
 "nbformat": 4,
 "nbformat_minor": 5
}
